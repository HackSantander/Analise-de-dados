{
 "cells": [
  {
   "cell_type": "code",
   "execution_count": 95,
   "metadata": {},
   "outputs": [
    {
     "data": {
      "text/html": [
       "Installing package Microsoft.ML..done!"
      ]
     },
     "metadata": {},
     "output_type": "display_data"
    },
    {
     "data": {
      "text/html": [
       "Successfully added reference to package Microsoft.ML, version "
      ]
     },
     "metadata": {},
     "output_type": "display_data"
    }
   ],
   "source": [
    "#r \"nuget:Microsoft.ML\""
   ]
  },
  {
   "cell_type": "code",
   "execution_count": 96,
   "metadata": {},
   "outputs": [],
   "source": [
    "using System;\n",
    "using System.IO;\n",
    "using System.Linq;\n",
    "using Microsoft.ML;\n",
    "using Microsoft.ML.Data;\n",
    "using XPlot.Plotly;"
   ]
  },
  {
   "cell_type": "code",
   "execution_count": 97,
   "metadata": {},
   "outputs": [
    {
     "data": {
      "text/html": [
       "<h1>An&#225;lise dos dados da COVID-19</h1>"
      ]
     },
     "metadata": {},
     "output_type": "display_data"
    },
    {
     "data": {
      "text/html": [
       "<h3>Base utilizada: brasil.io</h3>"
      ]
     },
     "metadata": {},
     "output_type": "display_data"
    },
    {
     "data": {
      "text/html": [
       "<h4>Criando classe para leitura dos dados:</h4>"
      ]
     },
     "metadata": {},
     "output_type": "display_data"
    }
   ],
   "source": [
    "display(h1(\"Análise dos dados da COVID-19\"));\n",
    "display(h3(\"Base utilizada: brasil.io\"));\n",
    "display(h4(\"Criando classe para leitura dos dados:\"));"
   ]
  },
  {
   "cell_type": "code",
   "execution_count": 120,
   "metadata": {},
   "outputs": [],
   "source": [
    "/* Classe para leitura dos dados */\n",
    "public class CovidCase {\n",
    "    [LoadColumn(0)] public DateTime Date {get; set;}\n",
    "    [LoadColumn(1)] public string State {get ;set;}\n",
    "    [LoadColumn(2)] public string City {get; set;}\n",
    "    [LoadColumn(3)] public string PlaceType {get; set;}\n",
    "    [LoadColumn(4)] public UInt64 Confirmed {get; set;}\n",
    "    [LoadColumn(5)] public UInt64 Deaths {get; set;}\n",
    "    [LoadColumn(6)] public UInt64 OrderForPlace {get; set;}\n",
    "    [LoadColumn(7)] public bool IsLast {get; set;}\n",
    "    [LoadColumn(8)] public UInt64 EstimatedPopulation2019 {get; set;}\n",
    "    [LoadColumn(9)] public UInt32 CityIBGEcode {get; set;}\n",
    "    [LoadColumn(10)] public double ConfirmedPer100kHabitants {get; set;}\n",
    "    [LoadColumn(11)] public double DeathRate {get; set;}\n",
    "}\n",
    "\n",
    "public class TotalEmpresas {\n",
    "    [LoadColumn(0)] public string Estado {get; set;}\n",
    "    [LoadColumn(1)] public UInt32 CodigoIbge {get ;set;}\n",
    "    [LoadColumn(2)] public string Municipio {get; set;}\n",
    "    [LoadColumn(3)] public UInt32 Quantidade {get; set;}    \n",
    "}\n",
    "\n",
    "public class Match {\n",
    "    public string Estado {get; set;}\n",
    "    public UInt32 CodigoIbge {get ;set;}\n",
    "    public string Municipio {get; set;}\n",
    "    public UInt32 QuantidadeEmpresas {get; set;} \n",
    "    public UInt64 Confirmados {get; set;} \n",
    "    public UInt64 Mortos {get; set;} \n",
    "}"
   ]
  },
  {
   "cell_type": "code",
   "execution_count": 121,
   "metadata": {},
   "outputs": [
    {
     "data": {
      "text/html": [
       "<h4>Leitura dos dados:</h4>"
      ]
     },
     "metadata": {},
     "output_type": "display_data"
    }
   ],
   "source": [
    "display(h4(\"Leitura dos dados:\"));"
   ]
  },
  {
   "cell_type": "code",
   "execution_count": 132,
   "metadata": {},
   "outputs": [],
   "source": [
    "/* Nome do arquivo */\n",
    "var casosCovid = Path.Combine(Environment.CurrentDirectory, \"casos.csv\");\n",
    "var totalEmpresas = Path.Combine(Environment.CurrentDirectory, \"totalEmpresas.csv\");\n",
    "\n",
    "/* Machine Learning context */\n",
    "var context = new MLContext();\n",
    "\n",
    "\n",
    "var dataCasosCovid = context.Data.LoadFromTextFile<CovidCase>(\n",
    "    path: casosCovid,\n",
    "    hasHeader: true,\n",
    "    separatorChar: ','\n",
    ");\n",
    "\n",
    "var datatotalEmpresas = context.Data.LoadFromTextFile<TotalEmpresas>(\n",
    "    path: totalEmpresas,\n",
    "    hasHeader: true,\n",
    "    separatorChar: ';'\n",
    ");\n",
    "\n",
    "/* Array de dados do arquivo CSV */\n",
    "var cases = context.Data.CreateEnumerable<CovidCase>(\n",
    "    dataCasosCovid,\n",
    "    reuseRowObject: false)\n",
    "    .ToArray();\n",
    "\n",
    "var empresas = context.Data.CreateEnumerable<TotalEmpresas>(\n",
    "    datatotalEmpresas,\n",
    "    reuseRowObject: false)\n",
    "    .ToArray();\n",
    "    \n",
    "/* Resgata os casos de Juiz de Fora */\n",
    "var jfCases = cases.Where(x => x.City == \"Juiz de Fora\");\n",
    "var jfEmpresas = empresas.Where(x => x.Municipio  == \"Juiz de Fora\");\n"
   ]
  },
  {
   "cell_type": "code",
   "execution_count": 92,
   "metadata": {},
   "outputs": [
    {
     "data": {
      "text/html": [
       "<h4>Gr&#225;fico:</h4>"
      ]
     },
     "metadata": {},
     "output_type": "display_data"
    }
   ],
   "source": [
    "display(h4(\"Gráfico:\"));"
   ]
  },
  {
   "cell_type": "code",
   "execution_count": 131,
   "metadata": {},
   "outputs": [
    {
     "data": {
      "text/html": [
       "<div id=\"cdd32248-1459-4c85-82f7-79c24eba9723\" style=\"width: 700px; height: 400px;\"></div><script type=\"text/javascript\">\r\n",
       "\r\n",
       "var renderPlotly = function() {\r\n",
       "    var xplotRequire = requirejs.config({context:'xplot-2.0.0',paths:{plotly:'https://cdn.plot.ly/plotly-1.49.2.min'}});\r\n",
       "    xplotRequire(['plotly'], function(Plotly) {\r\n",
       "\n",
       "            var data = [{\"type\":\"bar\",\"x\":[\"2020-07-31T00:00:00Z\",\"2020-07-30T00:00:00Z\",\"2020-07-29T00:00:00Z\",\"2020-07-28T00:00:00Z\",\"2020-07-27T00:00:00Z\",\"2020-07-26T00:00:00Z\",\"2020-07-25T00:00:00Z\",\"2020-07-24T00:00:00Z\",\"2020-07-23T00:00:00Z\",\"2020-07-22T00:00:00Z\",\"2020-07-21T00:00:00Z\",\"2020-07-20T00:00:00Z\",\"2020-07-19T00:00:00Z\",\"2020-07-18T00:00:00Z\",\"2020-07-17T00:00:00Z\",\"2020-07-16T00:00:00Z\",\"2020-07-15T00:00:00Z\",\"2020-07-14T00:00:00Z\",\"2020-07-13T00:00:00Z\",\"2020-07-12T00:00:00Z\",\"2020-07-11T00:00:00Z\",\"2020-07-10T00:00:00Z\",\"2020-07-09T00:00:00Z\",\"2020-07-08T00:00:00Z\",\"2020-07-07T00:00:00Z\",\"2020-07-06T00:00:00Z\",\"2020-07-05T00:00:00Z\",\"2020-07-04T00:00:00Z\",\"2020-07-03T00:00:00Z\",\"2020-07-02T00:00:00Z\",\"2020-07-01T00:00:00Z\",\"2020-06-30T00:00:00Z\",\"2020-06-29T00:00:00Z\",\"2020-06-28T00:00:00Z\",\"2020-06-27T00:00:00Z\",\"2020-06-26T00:00:00Z\",\"2020-06-25T00:00:00Z\",\"2020-06-24T00:00:00Z\",\"2020-06-23T00:00:00Z\",\"2020-06-22T00:00:00Z\",\"2020-06-21T00:00:00Z\",\"2020-06-20T00:00:00Z\",\"2020-06-19T00:00:00Z\",\"2020-06-18T00:00:00Z\",\"2020-06-17T00:00:00Z\",\"2020-06-16T00:00:00Z\",\"2020-06-15T00:00:00Z\",\"2020-06-14T00:00:00Z\",\"2020-06-13T00:00:00Z\",\"2020-06-12T00:00:00Z\",\"2020-06-11T00:00:00Z\",\"2020-06-10T00:00:00Z\",\"2020-06-09T00:00:00Z\",\"2020-06-08T00:00:00Z\",\"2020-06-07T00:00:00Z\",\"2020-06-06T00:00:00Z\",\"2020-06-05T00:00:00Z\",\"2020-06-04T00:00:00Z\",\"2020-06-03T00:00:00Z\",\"2020-06-02T00:00:00Z\",\"2020-06-01T00:00:00Z\",\"2020-05-31T00:00:00Z\",\"2020-05-30T00:00:00Z\",\"2020-05-29T00:00:00Z\",\"2020-05-28T00:00:00Z\",\"2020-05-27T00:00:00Z\",\"2020-05-26T00:00:00Z\",\"2020-05-25T00:00:00Z\",\"2020-05-24T00:00:00Z\",\"2020-05-23T00:00:00Z\",\"2020-05-22T00:00:00Z\",\"2020-05-21T00:00:00Z\",\"2020-05-20T00:00:00Z\",\"2020-05-19T00:00:00Z\",\"2020-05-18T00:00:00Z\",\"2020-05-17T00:00:00Z\",\"2020-05-16T00:00:00Z\",\"2020-05-15T00:00:00Z\",\"2020-05-14T00:00:00Z\",\"2020-05-13T00:00:00Z\",\"2020-05-12T00:00:00Z\",\"2020-05-11T00:00:00Z\",\"2020-05-10T00:00:00Z\",\"2020-05-09T00:00:00Z\",\"2020-05-08T00:00:00Z\",\"2020-05-07T00:00:00Z\",\"2020-05-06T00:00:00Z\",\"2020-05-05T00:00:00Z\",\"2020-05-04T00:00:00Z\",\"2020-05-03T00:00:00Z\",\"2020-05-02T00:00:00Z\",\"2020-05-01T00:00:00Z\",\"2020-04-30T00:00:00Z\",\"2020-04-29T00:00:00Z\",\"2020-04-28T00:00:00Z\",\"2020-04-27T00:00:00Z\",\"2020-04-26T00:00:00Z\",\"2020-04-25T00:00:00Z\",\"2020-04-24T00:00:00Z\",\"2020-04-23T00:00:00Z\",\"2020-04-22T00:00:00Z\",\"2020-04-21T00:00:00Z\",\"2020-04-20T00:00:00Z\",\"2020-04-19T00:00:00Z\",\"2020-04-18T00:00:00Z\",\"2020-04-17T00:00:00Z\",\"2020-04-16T00:00:00Z\",\"2020-04-15T00:00:00Z\",\"2020-04-14T00:00:00Z\",\"2020-04-13T00:00:00Z\",\"2020-04-12T00:00:00Z\",\"2020-04-11T00:00:00Z\",\"2020-04-10T00:00:00Z\",\"2020-04-09T00:00:00Z\",\"2020-04-08T00:00:00Z\",\"2020-04-07T00:00:00Z\",\"2020-04-06T00:00:00Z\",\"2020-04-05T00:00:00Z\",\"2020-04-04T00:00:00Z\",\"2020-04-03T00:00:00Z\",\"2020-04-02T00:00:00Z\",\"2020-04-01T00:00:00Z\",\"2020-03-31T00:00:00Z\",\"2020-03-30T00:00:00Z\",\"2020-03-29T00:00:00Z\",\"2020-03-28T00:00:00Z\",\"2020-03-27T00:00:00Z\",\"2020-03-26T00:00:00Z\",\"2020-03-25T00:00:00Z\",\"2020-03-24T00:00:00Z\",\"2020-03-23T00:00:00Z\",\"2020-03-21T00:00:00Z\",\"2020-03-20T00:00:00Z\",\"2020-03-19T00:00:00Z\",\"2020-03-18T00:00:00Z\",\"2020-03-17T00:00:00Z\",\"2020-03-16T00:00:00Z\",\"2020-03-14T00:00:00Z\"],\"y\":[3424,3376,3365,3305,3305,3273,3224,3164,3138,3102,3060,3014,3014,2965,2860,2753,2682,2616,2614,2579,2542,2414,2327,2306,2260,2228,2228,2061,1974,1786,1685,1595,1583,1577,1529,1435,1435,1345,1287,1228,1183,1174,955,923,915,881,881,880,870,849,816,763,739,729,729,721,675,671,625,618,617,614,611,599,551,546,545,529,529,527,511,498,474,455,412,412,408,400,396,353,340,320,317,287,275,244,225,223,181,180,175,152,151,133,132,122,121,120,105,102,102,99,95,95,93,84,82,77,76,61,60,58,53,51,46,42,39,37,30,30,30,24,23,13,11,11,11,8,8,8,8,4,5,2,2,2,2,1],\"name\":\"Confirmados\"},{\"type\":\"bar\",\"x\":[\"2020-07-31T00:00:00Z\",\"2020-07-30T00:00:00Z\",\"2020-07-29T00:00:00Z\",\"2020-07-28T00:00:00Z\",\"2020-07-27T00:00:00Z\",\"2020-07-26T00:00:00Z\",\"2020-07-25T00:00:00Z\",\"2020-07-24T00:00:00Z\",\"2020-07-23T00:00:00Z\",\"2020-07-22T00:00:00Z\",\"2020-07-21T00:00:00Z\",\"2020-07-20T00:00:00Z\",\"2020-07-19T00:00:00Z\",\"2020-07-18T00:00:00Z\",\"2020-07-17T00:00:00Z\",\"2020-07-16T00:00:00Z\",\"2020-07-15T00:00:00Z\",\"2020-07-14T00:00:00Z\",\"2020-07-13T00:00:00Z\",\"2020-07-12T00:00:00Z\",\"2020-07-11T00:00:00Z\",\"2020-07-10T00:00:00Z\",\"2020-07-09T00:00:00Z\",\"2020-07-08T00:00:00Z\",\"2020-07-07T00:00:00Z\",\"2020-07-06T00:00:00Z\",\"2020-07-05T00:00:00Z\",\"2020-07-04T00:00:00Z\",\"2020-07-03T00:00:00Z\",\"2020-07-02T00:00:00Z\",\"2020-07-01T00:00:00Z\",\"2020-06-30T00:00:00Z\",\"2020-06-29T00:00:00Z\",\"2020-06-28T00:00:00Z\",\"2020-06-27T00:00:00Z\",\"2020-06-26T00:00:00Z\",\"2020-06-25T00:00:00Z\",\"2020-06-24T00:00:00Z\",\"2020-06-23T00:00:00Z\",\"2020-06-22T00:00:00Z\",\"2020-06-21T00:00:00Z\",\"2020-06-20T00:00:00Z\",\"2020-06-19T00:00:00Z\",\"2020-06-18T00:00:00Z\",\"2020-06-17T00:00:00Z\",\"2020-06-16T00:00:00Z\",\"2020-06-15T00:00:00Z\",\"2020-06-14T00:00:00Z\",\"2020-06-13T00:00:00Z\",\"2020-06-12T00:00:00Z\",\"2020-06-11T00:00:00Z\",\"2020-06-10T00:00:00Z\",\"2020-06-09T00:00:00Z\",\"2020-06-08T00:00:00Z\",\"2020-06-07T00:00:00Z\",\"2020-06-06T00:00:00Z\",\"2020-06-05T00:00:00Z\",\"2020-06-04T00:00:00Z\",\"2020-06-03T00:00:00Z\",\"2020-06-02T00:00:00Z\",\"2020-06-01T00:00:00Z\",\"2020-05-31T00:00:00Z\",\"2020-05-30T00:00:00Z\",\"2020-05-29T00:00:00Z\",\"2020-05-28T00:00:00Z\",\"2020-05-27T00:00:00Z\",\"2020-05-26T00:00:00Z\",\"2020-05-25T00:00:00Z\",\"2020-05-24T00:00:00Z\",\"2020-05-23T00:00:00Z\",\"2020-05-22T00:00:00Z\",\"2020-05-21T00:00:00Z\",\"2020-05-20T00:00:00Z\",\"2020-05-19T00:00:00Z\",\"2020-05-18T00:00:00Z\",\"2020-05-17T00:00:00Z\",\"2020-05-16T00:00:00Z\",\"2020-05-15T00:00:00Z\",\"2020-05-14T00:00:00Z\",\"2020-05-13T00:00:00Z\",\"2020-05-12T00:00:00Z\",\"2020-05-11T00:00:00Z\",\"2020-05-10T00:00:00Z\",\"2020-05-09T00:00:00Z\",\"2020-05-08T00:00:00Z\",\"2020-05-07T00:00:00Z\",\"2020-05-06T00:00:00Z\",\"2020-05-05T00:00:00Z\",\"2020-05-04T00:00:00Z\",\"2020-05-03T00:00:00Z\",\"2020-05-02T00:00:00Z\",\"2020-05-01T00:00:00Z\",\"2020-04-30T00:00:00Z\",\"2020-04-29T00:00:00Z\",\"2020-04-28T00:00:00Z\",\"2020-04-27T00:00:00Z\",\"2020-04-26T00:00:00Z\",\"2020-04-25T00:00:00Z\",\"2020-04-24T00:00:00Z\",\"2020-04-23T00:00:00Z\",\"2020-04-22T00:00:00Z\",\"2020-04-21T00:00:00Z\",\"2020-04-20T00:00:00Z\",\"2020-04-19T00:00:00Z\",\"2020-04-18T00:00:00Z\",\"2020-04-17T00:00:00Z\",\"2020-04-16T00:00:00Z\",\"2020-04-15T00:00:00Z\",\"2020-04-14T00:00:00Z\",\"2020-04-13T00:00:00Z\",\"2020-04-12T00:00:00Z\",\"2020-04-11T00:00:00Z\",\"2020-04-10T00:00:00Z\",\"2020-04-09T00:00:00Z\",\"2020-04-08T00:00:00Z\",\"2020-04-07T00:00:00Z\",\"2020-04-06T00:00:00Z\",\"2020-04-05T00:00:00Z\",\"2020-04-04T00:00:00Z\",\"2020-04-03T00:00:00Z\",\"2020-04-02T00:00:00Z\",\"2020-04-01T00:00:00Z\",\"2020-03-31T00:00:00Z\",\"2020-03-30T00:00:00Z\",\"2020-03-29T00:00:00Z\",\"2020-03-28T00:00:00Z\",\"2020-03-27T00:00:00Z\",\"2020-03-26T00:00:00Z\",\"2020-03-25T00:00:00Z\",\"2020-03-24T00:00:00Z\",\"2020-03-23T00:00:00Z\",\"2020-03-21T00:00:00Z\",\"2020-03-20T00:00:00Z\",\"2020-03-19T00:00:00Z\",\"2020-03-18T00:00:00Z\",\"2020-03-17T00:00:00Z\",\"2020-03-16T00:00:00Z\",\"2020-03-14T00:00:00Z\"],\"y\":[108,107,101,97,97,97,94,94,94,90,89,87,83,83,83,79,79,71,70,70,68,68,60,60,58,58,58,57,54,53,53,50,49,49,49,48,47,47,47,47,42,41,39,39,38,38,38,38,38,38,38,37,37,37,37,36,30,30,30,30,30,30,29,28,27,26,26,26,26,26,23,23,21,16,16,16,16,15,15,15,14,13,13,13,12,9,6,6,6,6,6,6,5,5,3,3,3,3,2,2,2,2,2,2,2,2,2,2,2,2,1,1,1,1,0,0,0,0,0,0,0,0,0,0,0,0,0,0,0,0,0,0,0,0,0,0,0,0],\"name\":\"Mortes\"}];\n",
       "            var layout = {\"title\":\"Número de casos confirmados e mortes COVID-19 - Juiz de Fora\",\"showlegend\":true,\"xaxis\":{\"title\":\"Data\",\"_isSubplotObj\":true},\"yaxis\":{\"title\":\"Número de casos Confirmados\",\"_isSubplotObj\":true},\"barmode\":\"group\"};\n",
       "            Plotly.newPlot('cdd32248-1459-4c85-82f7-79c24eba9723', data, layout);\n",
       "        });\r\n",
       "};\r\n",
       "if ((typeof(requirejs) !==  typeof(Function)) || (typeof(requirejs.config) !== typeof(Function))) { \r\n",
       "    var script = document.createElement(\"script\"); \r\n",
       "    script.setAttribute(\"src\", \"https://cdnjs.cloudflare.com/ajax/libs/require.js/2.3.6/require.min.js\"); \r\n",
       "    script.onload = function(){\r\n",
       "        renderPlotly();\r\n",
       "    };\r\n",
       "    document.getElementsByTagName(\"head\")[0].appendChild(script); \r\n",
       "}\r\n",
       "else {\r\n",
       "    renderPlotly();\r\n",
       "}\r\n",
       "</script>"
      ]
     },
     "metadata": {},
     "output_type": "display_data"
    },
    {
     "data": {
      "text/html": [
       "<div id=\"e1bed926-264a-4765-9ba0-207376ff9662\" style=\"width: 900px; height: 500px;\"></div><script type=\"text/javascript\">\r\n",
       "\r\n",
       "var renderPlotly = function() {\r\n",
       "    var xplotRequire = requirejs.config({context:'xplot-2.0.0',paths:{plotly:'https://cdn.plot.ly/plotly-1.49.2.min'}});\r\n",
       "    xplotRequire(['plotly'], function(Plotly) {\r\n",
       "\n",
       "            var data = [{\"type\":\"bar\",\"x\":[\"Juiz de Fora\"],\"y\":[\"32555\"],\"name\":\"Empresas\"}];\n",
       "            var layout = \"\";\n",
       "            Plotly.newPlot('e1bed926-264a-4765-9ba0-207376ff9662', data, layout);\n",
       "        });\r\n",
       "};\r\n",
       "if ((typeof(requirejs) !==  typeof(Function)) || (typeof(requirejs.config) !== typeof(Function))) { \r\n",
       "    var script = document.createElement(\"script\"); \r\n",
       "    script.setAttribute(\"src\", \"https://cdnjs.cloudflare.com/ajax/libs/require.js/2.3.6/require.min.js\"); \r\n",
       "    script.onload = function(){\r\n",
       "        renderPlotly();\r\n",
       "    };\r\n",
       "    document.getElementsByTagName(\"head\")[0].appendChild(script); \r\n",
       "}\r\n",
       "else {\r\n",
       "    renderPlotly();\r\n",
       "}\r\n",
       "</script>"
      ]
     },
     "metadata": {},
     "output_type": "display_data"
    }
   ],
   "source": [
    "var confirmedJF = new Graph.Bar()\n",
    "{\n",
    "    x = jfCases.Select(x => x.Date).ToArray(),\n",
    "    y = jfCases.Select(x => x.Confirmed).ToArray(),\n",
    "    name = \"Confirmados\"\n",
    "};\n",
    "\n",
    "var deathsJf = new Graph.Bar()\n",
    "{\n",
    "    x = jfCases.Select(x => x.Date).ToArray(),\n",
    "    y = jfCases.Select(x => x.Deaths).ToArray(),\n",
    "    name = \"Mortes\"\n",
    "};\n",
    "\n",
    "var empresasJf = new Graph.Bar()\n",
    "{\n",
    "    x = jfEmpresas.Select(x => x.Municipio),\n",
    "    y = jfEmpresas.Select(x => x.Quantidade),\n",
    "    name = \"Empresas\"\n",
    "};\n",
    "\n",
    "\n",
    "var chart = Chart.Plot(new[] {confirmedJF, deathsJf});\n",
    "var layout = new Layout.Layout(){ barmode = \"group\", title=\"Número de casos confirmados e mortes COVID-19 - Juiz de Fora\" };\n",
    "chart.WithLayout(layout);\n",
    "chart.WithXTitle(\"Data\");\n",
    "chart.WithYTitle(\"Número de casos Confirmados\");\n",
    "chart.WithLegend(true);\n",
    "chart.Width = 700;\n",
    "chart.Height = 400;\n",
    "\n",
    "display(chart);\n",
    "\n",
    "var chart1 = Chart.Plot(new[] {empresasJf});\n",
    "var layout1 = new Layout.Layout(){ barmode = \"group\", title=\"Total de Empresas - Juiz de Fora\" };\n",
    "chart.WithLayout(layout1);\n",
    "chart.WithLegend(true);\n",
    "chart.Width = 700;\n",
    "chart.Height = 400;\n",
    "\n",
    "display(chart1);\n"
   ]
  },
  {
   "cell_type": "code",
   "execution_count": 56,
   "metadata": {},
   "outputs": [
    {
     "data": {
      "text/html": [
       "<h4>An&#225;lise das top 10 cidades com mais casos por habitante</h4>"
      ]
     },
     "metadata": {},
     "output_type": "display_data"
    }
   ],
   "source": [
    "display(h4(\"Análise das top 10 cidades com mais casos por habitante\"));"
   ]
  },
  {
   "cell_type": "code",
   "execution_count": 124,
   "metadata": {
    "scrolled": true
   },
   "outputs": [],
   "source": [
    "/* Selecionando os dados das maiores cidades com casos por número de covid */\n",
    "\n",
    "var topCidades= cases.Where(x => x.IsLast && x.PlaceType == \"city\" && x.EstimatedPopulation2019 > 100000).OrderByDescending(x => x.ConfirmedPer100kHabitants).Take(10);\n"
   ]
  },
  {
   "cell_type": "code",
   "execution_count": 58,
   "metadata": {},
   "outputs": [
    {
     "data": {
      "text/html": [
       "<h4> Gr&#225;fico Top 10 cidades com maiores n&#250;meros de casos por 100k de habitantes</h4>"
      ]
     },
     "metadata": {},
     "output_type": "display_data"
    }
   ],
   "source": [
    "display(h4(\" Gráfico Top 10 cidades com maiores números de casos por 100k de habitantes\"));"
   ]
  },
  {
   "cell_type": "code",
   "execution_count": 59,
   "metadata": {},
   "outputs": [
    {
     "data": {
      "text/html": [
       "<div id=\"26482e43-87f3-4d69-9ed5-5c7232e4b1c3\" style=\"width: 700px; height: 400px;\"></div><script type=\"text/javascript\">\r\n",
       "\r\n",
       "var renderPlotly = function() {\r\n",
       "    var xplotRequire = requirejs.config({context:'xplot-2.0.0',paths:{plotly:'https://cdn.plot.ly/plotly-1.49.2.min'}});\r\n",
       "    xplotRequire(['plotly'], function(Plotly) {\r\n",
       "\n",
       "            var data = [{\"type\":\"bar\",\"x\":[\"Parauapebas\",\"Boa Vista\",\"Sobral\",\"Aracaju\",\"Santana\",\"Porto Velho\",\"Itaituba\",\"Araguaína\",\"Santos\",\"Parnaíba\"],\"y\":[14862,23520,9892,28375,5209,21273,4009,7028,15302,5278],\"name\":\"Confirmados\"},{\"type\":\"bar\",\"x\":[\"Parauapebas\",\"Boa Vista\",\"Sobral\",\"Aracaju\",\"Santana\",\"Porto Velho\",\"Itaituba\",\"Araguaína\",\"Santos\",\"Parnaíba\"],\"y\":[148,402,284,537,75,554,97,90,470,109],\"name\":\"Mortes\"}];\n",
       "            var layout = {\"title\":\"Top 10 cidades com maiores números de casos por 100k de habitantes\",\"showlegend\":true,\"xaxis\":{\"title\":\"Cidades\",\"_isSubplotObj\":true},\"yaxis\":{\"title\":\"Número de casos Confirmados\",\"_isSubplotObj\":true},\"barmode\":\"group\"};\n",
       "            Plotly.newPlot('26482e43-87f3-4d69-9ed5-5c7232e4b1c3', data, layout);\n",
       "        });\r\n",
       "};\r\n",
       "if ((typeof(requirejs) !==  typeof(Function)) || (typeof(requirejs.config) !== typeof(Function))) { \r\n",
       "    var script = document.createElement(\"script\"); \r\n",
       "    script.setAttribute(\"src\", \"https://cdnjs.cloudflare.com/ajax/libs/require.js/2.3.6/require.min.js\"); \r\n",
       "    script.onload = function(){\r\n",
       "        renderPlotly();\r\n",
       "    };\r\n",
       "    document.getElementsByTagName(\"head\")[0].appendChild(script); \r\n",
       "}\r\n",
       "else {\r\n",
       "    renderPlotly();\r\n",
       "}\r\n",
       "</script>"
      ]
     },
     "metadata": {},
     "output_type": "display_data"
    }
   ],
   "source": [
    "var confirmedJF = new Graph.Bar()\n",
    "{\n",
    "    x = topCidades.Select(x => x.City).ToArray(),\n",
    "    y = topCidades.Select(x => x.Confirmed).ToArray(),\n",
    "    name = \"Confirmados\"\n",
    "};\n",
    "\n",
    "var confirmedJF1 = new Graph.Bar()\n",
    "{\n",
    "    x = topCidades.Select(x => x.City).ToArray(),\n",
    "    y = topCidades.Select(x => x.Deaths).ToArray(),\n",
    "    name = \"Mortes\"\n",
    "};\n",
    "\n",
    "var chart = Chart.Plot(new[] { confirmedJF,confirmedJF1 });\n",
    "var layout = new Layout.Layout(){ barmode = \"group\", title=\"Top 10 cidades com maiores números de casos por 100k de habitantes\" };\n",
    "chart.WithLayout(layout);\n",
    "chart.WithXTitle(\"Cidades\");\n",
    "chart.WithYTitle(\"Número de casos Confirmados\");\n",
    "chart.WithLegend(true);\n",
    "chart.Width = 700;\n",
    "chart.Height = 400;\n",
    "\n",
    "display(chart);"
   ]
  },
  {
   "cell_type": "code",
   "execution_count": 133,
   "metadata": {},
   "outputs": [
    {
     "data": {
      "text/html": [
       "<h4>Match das cidades e empresas</h4>"
      ]
     },
     "metadata": {},
     "output_type": "display_data"
    }
   ],
   "source": [
    "display(h4(\"Match das cidades e empresas\"));"
   ]
  },
  {
   "cell_type": "code",
   "execution_count": null,
   "metadata": {},
   "outputs": [],
   "source": [
    "/* Match da cidades */\n",
    "\n"
   ]
  },
  {
   "cell_type": "code",
   "execution_count": null,
   "metadata": {},
   "outputs": [],
   "source": []
  },
  {
   "cell_type": "code",
   "execution_count": null,
   "metadata": {},
   "outputs": [],
   "source": []
  }
 ],
 "metadata": {
  "kernelspec": {
   "display_name": ".NET (C#)",
   "language": "C#",
   "name": ".net-csharp"
  },
  "language_info": {
   "file_extension": ".cs",
   "mimetype": "text/x-csharp",
   "name": "C#",
   "pygments_lexer": "csharp",
   "version": "8.0"
  }
 },
 "nbformat": 4,
 "nbformat_minor": 4
}
